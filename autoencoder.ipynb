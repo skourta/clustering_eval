{
 "cells": [
  {
   "cell_type": "code",
   "execution_count": 1,
   "id": "8c310541-9598-465d-a5cc-dd24db7548fd",
   "metadata": {},
   "outputs": [],
   "source": [
    "from torch.utils.data import DataLoader\n",
    "import numpy as np\n",
    "import torch\n",
    "from tqdm import tqdm \n",
    "\n",
    "class AutoEncoder(torch.nn.Module):\n",
    "    def __init__(self, input_dim, embedding_dim):\n",
    "        super().__init__()\n",
    "        self.input_dim = input_dim\n",
    "        self.embedding_dim = embedding_dim\n",
    "\n",
    "        self.encoder = torch.nn.Sequential(\n",
    "            torch.nn.Linear(self.input_dim, 256),\n",
    "            torch.nn.ReLU(),\n",
    "            torch.nn.Linear(256, self.embedding_dim)\n",
    "        )\n",
    "        \n",
    "        self.decoder = torch.nn.Sequential(\n",
    "            torch.nn.Linear(self.embedding_dim, 256),\n",
    "            torch.nn.ReLU(),\n",
    "            torch.nn.Linear(256, self.input_dim),\n",
    "            torch.nn.Sigmoid()\n",
    "        )\n",
    "\n",
    "    def forward(self, x):\n",
    "        encoded = self.encoder(x)\n",
    "        decoded = self.decoder(encoded)\n",
    "        return decoded\n",
    "\n",
    "def autoencoder(X, embedding_dim, n_epochs=50, batch_size=64, learning_rate=1e-3, weight_decay=1e-8, seed=None, return_model=False):\n",
    "    if torch.cuda.is_available():\n",
    "        device = 'cuda'\n",
    "    else:\n",
    "        device = 'cpu'\n",
    "\n",
    "    if seed is not None:\n",
    "      torch.manual_seed(seed)\n",
    "\n",
    "    dataloader = DataLoader(dataset=X, batch_size=batch_size, shuffle=True)\n",
    "\n",
    "    model = AutoEncoder(input_dim=X.shape[1], embedding_dim=embedding_dim)\n",
    "\n",
    "    if device == 'cuda':\n",
    "      model.cuda()\n",
    "\n",
    "    loss_function = torch.nn.MSELoss()\n",
    "\n",
    "    optimizer = torch.optim.Adam(model.parameters(),\n",
    "                                lr=learning_rate,\n",
    "                                weight_decay=weight_decay)\n",
    "\n",
    "    losses = []\n",
    "\n",
    "    model.train()\n",
    "    for epoch in tqdm(range(n_epochs)):\n",
    "        for batch in dataloader:\n",
    "          batch = batch.to(device)\n",
    "          reconstructed = model(batch)\n",
    "          \n",
    "          loss = loss_function(reconstructed, batch)\n",
    "          \n",
    "          optimizer.zero_grad()\n",
    "          loss.backward()\n",
    "          optimizer.step()\n",
    "          \n",
    "          losses.append(loss)\n",
    "\n",
    "    model.eval()\n",
    "    tensor_X = torch.tensor(X)\n",
    "    tensor_X = tensor_X.to(device)\n",
    "    encoded_X = model.encoder(tensor_X)\n",
    "    encoded_X = encoded_X.detach().cpu().numpy()\n",
    "\n",
    "    if return_model:\n",
    "      return encoded_X, model, losses\n",
    "    else:\n",
    "      return encoded_X"
   ]
  },
  {
   "cell_type": "code",
   "execution_count": 2,
   "id": "48ec82e2-d88e-47d2-ad5d-157d335a80fe",
   "metadata": {},
   "outputs": [],
   "source": [
    "from scipy.io import loadmat  # this is the SciPy module that loads mat-files\n"
   ]
  },
  {
   "cell_type": "code",
   "execution_count": 4,
   "id": "ea7e9147-302c-49d9-b3af-365af191e16a",
   "metadata": {},
   "outputs": [],
   "source": [
    "jaffe = loadmat('data/jaffe.mat')"
   ]
  },
  {
   "cell_type": "code",
   "execution_count": 8,
   "id": "9d55f3a6-3c02-47e5-b1a7-558f1ffc75fe",
   "metadata": {},
   "outputs": [
    {
     "name": "stderr",
     "output_type": "stream",
     "text": [
      "100%|██████████| 50/50 [00:00<00:00, 52.55it/s]\n"
     ]
    }
   ],
   "source": [
    "jaffe_reduced = autoencoder(jaffe[\"X\"].astype(\"float32\"), 2 )"
   ]
  },
  {
   "cell_type": "code",
   "execution_count": 12,
   "id": "c8346c02-0a81-4d84-b3ab-67cdde07591a",
   "metadata": {},
   "outputs": [],
   "source": [
    "import csv\n",
    "with open('data/jaffe_reduced.csv', 'w') as f:\n",
    "      \n",
    "    # using csv.writer method from CSV package\n",
    "    write = csv.writer(f)\n",
    "      \n",
    "    write.writerows(jaffe_reduced)"
   ]
  },
  {
   "cell_type": "code",
   "execution_count": null,
   "id": "96120fe5-1202-4897-b936-8e218cacb6d6",
   "metadata": {},
   "outputs": [],
   "source": []
  },
  {
   "cell_type": "code",
   "execution_count": 4,
   "id": "752c756e-2ab1-4113-8e40-59830b82b74a",
   "metadata": {},
   "outputs": [],
   "source": [
    "mnist = loadmat('data/MNIST5.mat')"
   ]
  },
  {
   "cell_type": "code",
   "execution_count": 5,
   "id": "6b375f02-e1af-4d35-b6cc-99296c77975a",
   "metadata": {},
   "outputs": [
    {
     "name": "stderr",
     "output_type": "stream",
     "text": [
      "100%|██████████| 50/50 [00:19<00:00,  2.60it/s]\n"
     ]
    }
   ],
   "source": [
    "mnist_reduced = autoencoder(mnist[\"X\"].astype(\"float32\"), 2 )"
   ]
  },
  {
   "cell_type": "code",
   "execution_count": 6,
   "id": "d1597264-5ae3-44c1-933e-56661eeb3b13",
   "metadata": {},
   "outputs": [],
   "source": [
    "import csv\n",
    "with open('data/mnist_reduced.csv', 'w') as f:\n",
    "      \n",
    "    # using csv.writer method from CSV package\n",
    "    write = csv.writer(f)\n",
    "      \n",
    "    write.writerows(mnist_reduced)"
   ]
  },
  {
   "cell_type": "code",
   "execution_count": null,
   "id": "e9cc9898-04c8-4389-9602-63b06b5161a3",
   "metadata": {},
   "outputs": [],
   "source": []
  },
  {
   "cell_type": "code",
   "execution_count": 8,
   "id": "9fcbfb5b-bcf5-4492-b45c-60dcc699c622",
   "metadata": {},
   "outputs": [],
   "source": [
    "mfeat = loadmat('data/MFEAT1.mat')"
   ]
  },
  {
   "cell_type": "code",
   "execution_count": 9,
   "id": "33d269ad-873a-4686-aab2-7c9b22077a04",
   "metadata": {},
   "outputs": [
    {
     "name": "stderr",
     "output_type": "stream",
     "text": [
      "100%|██████████| 50/50 [00:03<00:00, 13.45it/s]\n"
     ]
    }
   ],
   "source": [
    "mfeat_reduced = autoencoder(mfeat[\"X\"].astype(\"float32\"), 2 )"
   ]
  },
  {
   "cell_type": "code",
   "execution_count": 10,
   "id": "3739000d-1046-499d-887e-688cdd55711e",
   "metadata": {},
   "outputs": [],
   "source": [
    "import csv\n",
    "with open('data/mfeat_reduced.csv', 'w') as f:\n",
    "      \n",
    "    # using csv.writer method from CSV package\n",
    "    write = csv.writer(f)\n",
    "      \n",
    "    write.writerows(mfeat_reduced)"
   ]
  },
  {
   "cell_type": "code",
   "execution_count": null,
   "id": "96ff2df8-1454-44c8-81a4-8cc9d1153922",
   "metadata": {},
   "outputs": [],
   "source": []
  }
 ],
 "metadata": {
  "kernelspec": {
   "display_name": "default:Python",
   "language": "python",
   "name": "conda-env-default-py"
  },
  "language_info": {
   "codemirror_mode": {
    "name": "ipython",
    "version": 3
   },
   "file_extension": ".py",
   "mimetype": "text/x-python",
   "name": "python",
   "nbconvert_exporter": "python",
   "pygments_lexer": "ipython3",
   "version": "3.9.7"
  }
 },
 "nbformat": 4,
 "nbformat_minor": 5
}
