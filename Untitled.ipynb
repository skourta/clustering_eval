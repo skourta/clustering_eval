{
 "cells": [
  {
   "cell_type": "code",
   "execution_count": null,
   "id": "b9f86a18-c795-40f1-b0f3-913e29b2c321",
   "metadata": {},
   "outputs": [],
   "source": []
  },
  {
   "cell_type": "markdown",
   "id": "2f10467b-2f74-4c1a-a44d-e42d152d19ab",
   "metadata": {
    "id": "xdrBu1Yz4jSR",
    "tags": []
   },
   "source": [
    "# MNIST5"
   ]
  },
  {
   "cell_type": "markdown",
   "id": "1d90a387-1b3e-49ea-a7f7-fd5b54525032",
   "metadata": {
    "id": "ubXhZJw34xwn"
   },
   "source": [
    "## Visualisation des donnees"
   ]
  },
  {
   "cell_type": "code",
   "execution_count": null,
   "id": "e622ee94-b277-4004-a856-d5b631219333",
   "metadata": {
    "id": "gotbyhyM4i05"
   },
   "outputs": [],
   "source": [
    "pca.mnist=PCA((mnist$X),ncp=2)"
   ]
  },
  {
   "cell_type": "code",
   "execution_count": null,
   "id": "a5c79bfb-a702-4d34-9c4e-8fad2e758a86",
   "metadata": {
    "colab": {
     "base_uri": "https://localhost:8080/",
     "height": 437
    },
    "id": "CERfhbGw3zFq",
    "outputId": "5661260e-c37b-41e3-ef12-85f0ee7eff3b"
   },
   "outputs": [],
   "source": [
    "plot(pca.mnist$ind$coord,col=mnist$y)"
   ]
  },
  {
   "cell_type": "code",
   "execution_count": null,
   "id": "c54fa6bd-62ff-418c-ba8b-3dee1630eb85",
   "metadata": {},
   "outputs": [],
   "source": [
    "tsne.mnist=Rtsne(mnist$X,dim=2 )"
   ]
  },
  {
   "cell_type": "code",
   "execution_count": null,
   "id": "0ca1ecf1-3673-427b-89eb-b3d2ca3c4cb8",
   "metadata": {},
   "outputs": [],
   "source": [
    "plot(tsne.mnist$Y,col=mnist$y)"
   ]
  },
  {
   "cell_type": "markdown",
   "id": "404df294-af10-407e-b3cd-4164b4e03368",
   "metadata": {
    "tags": []
   },
   "source": [
    "## 3.Partitionnement"
   ]
  },
  {
   "cell_type": "markdown",
   "id": "aae6f81a-e087-4da1-bde5-058b88a5e00a",
   "metadata": {},
   "source": [
    "### Kmeans"
   ]
  },
  {
   "cell_type": "code",
   "execution_count": null,
   "id": "cfdd234d-ca66-44b3-954b-62c78225990d",
   "metadata": {
    "id": "kJzSWHbA6NlH"
   },
   "outputs": [],
   "source": [
    "km.mnist=NbClust(mnist$X, method = \"kmeans\", distance = \"euclidean\", index = \"silhouette\",max.nc = 10)"
   ]
  },
  {
   "cell_type": "code",
   "execution_count": null,
   "id": "37b233ed-7e54-49c9-8fcf-b3ac23ca97a0",
   "metadata": {
    "colab": {
     "base_uri": "https://localhost:8080/",
     "height": 34
    },
    "id": "OSNEVpb_6zqO",
    "outputId": "6a6c6ca2-118c-438a-eb05-83d4c2ffdbf1"
   },
   "outputs": [],
   "source": [
    "km.mnist$Best.nc"
   ]
  },
  {
   "cell_type": "markdown",
   "id": "f02f1305-d0f4-4fac-bb5a-12e462665ff5",
   "metadata": {},
   "source": [
    "### Average"
   ]
  },
  {
   "cell_type": "code",
   "execution_count": null,
   "id": "8c51573b-cd7a-43b9-8876-202398bb684b",
   "metadata": {
    "id": "kJzSWHbA6NlH"
   },
   "outputs": [],
   "source": [
    "average.mnist=NbClust(mnist$X, method = \"average\", index = \"silhouette\")"
   ]
  },
  {
   "cell_type": "code",
   "execution_count": null,
   "id": "f3c75631-ccee-408b-8e40-8738e518a513",
   "metadata": {
    "colab": {
     "base_uri": "https://localhost:8080/",
     "height": 34
    },
    "id": "OSNEVpb_6zqO",
    "outputId": "6a6c6ca2-118c-438a-eb05-83d4c2ffdbf1"
   },
   "outputs": [],
   "source": [
    "average.mnist$Best.nc"
   ]
  },
  {
   "cell_type": "markdown",
   "id": "ad511342-d5b1-4232-89b5-115bdb147ecf",
   "metadata": {},
   "source": [
    "### Ward"
   ]
  },
  {
   "cell_type": "code",
   "execution_count": null,
   "id": "785d95ce-1e19-4c92-b725-237da0ce056d",
   "metadata": {
    "id": "kJzSWHbA6NlH"
   },
   "outputs": [],
   "source": [
    "ward.mnist=NbClust(mnist$X, method = \"ward.D\", index = \"silhouette\")"
   ]
  },
  {
   "cell_type": "code",
   "execution_count": null,
   "id": "604d1a3b-0f51-4db2-8275-8d527bcd1f81",
   "metadata": {
    "colab": {
     "base_uri": "https://localhost:8080/",
     "height": 34
    },
    "id": "OSNEVpb_6zqO",
    "outputId": "6a6c6ca2-118c-438a-eb05-83d4c2ffdbf1"
   },
   "outputs": [],
   "source": [
    "ward.mnist$Best.nc"
   ]
  },
  {
   "cell_type": "markdown",
   "id": "52de6e43-389d-4340-aca8-80428b1112ee",
   "metadata": {},
   "source": [
    "### Single"
   ]
  },
  {
   "cell_type": "code",
   "execution_count": null,
   "id": "5897f691-ba80-4db6-974a-cf87a838db9a",
   "metadata": {
    "id": "kJzSWHbA6NlH"
   },
   "outputs": [],
   "source": [
    "single.mnist=NbClust(mnist$X, method = \"single\", index = \"silhouette\")"
   ]
  },
  {
   "cell_type": "code",
   "execution_count": null,
   "id": "89d4be4f-2a19-4066-a68a-d09c54d10c60",
   "metadata": {
    "colab": {
     "base_uri": "https://localhost:8080/",
     "height": 34
    },
    "id": "OSNEVpb_6zqO",
    "outputId": "6a6c6ca2-118c-438a-eb05-83d4c2ffdbf1"
   },
   "outputs": [],
   "source": [
    "single.mnist$Best.nc"
   ]
  },
  {
   "cell_type": "markdown",
   "id": "92e5a4b8-3af2-43b9-ad07-17c0ebf052c2",
   "metadata": {},
   "source": [
    "### Complete"
   ]
  },
  {
   "cell_type": "code",
   "execution_count": null,
   "id": "829f67d1-2c05-4861-b1b2-cfd3800ab1e1",
   "metadata": {
    "id": "kJzSWHbA6NlH"
   },
   "outputs": [],
   "source": [
    "complete.mnist=NbClust(mnist$X, method = \"complete\", index = \"silhouette\")"
   ]
  },
  {
   "cell_type": "code",
   "execution_count": null,
   "id": "7bb04027-993e-4d25-aa0e-b08b5b4b394f",
   "metadata": {
    "colab": {
     "base_uri": "https://localhost:8080/",
     "height": 34
    },
    "id": "OSNEVpb_6zqO",
    "outputId": "6a6c6ca2-118c-438a-eb05-83d4c2ffdbf1"
   },
   "outputs": [],
   "source": [
    "complete.mnist$Best.nc"
   ]
  },
  {
   "cell_type": "markdown",
   "id": "8d821e44-39af-405e-8418-ac0c3b001b77",
   "metadata": {},
   "source": [
    "## 4.HCPC"
   ]
  },
  {
   "cell_type": "code",
   "execution_count": null,
   "id": "941743c8-d546-4193-866a-b88953914097",
   "metadata": {},
   "outputs": [],
   "source": [
    "hcpcward.mnist=HCPC(pca.mnist,method = \"ward\", nb.clust=-1)"
   ]
  },
  {
   "cell_type": "code",
   "execution_count": null,
   "id": "16354d97-dd91-47d6-b796-efa6960eeb3b",
   "metadata": {},
   "outputs": [],
   "source": [
    "hcpcward.mnist$call$t$nb.clust"
   ]
  },
  {
   "cell_type": "code",
   "execution_count": null,
   "id": "08336686-1ee4-413b-bf57-9ca7c22a3577",
   "metadata": {},
   "outputs": [],
   "source": [
    "hcpccomp.mnist=HCPC(pca.mnist,method = \"complete\", nb.clust=-1)"
   ]
  },
  {
   "cell_type": "code",
   "execution_count": null,
   "id": "07560877-394f-4df3-965f-3f2080163dd8",
   "metadata": {},
   "outputs": [],
   "source": [
    "hcpccomp.mnist$call$t$nb.clust"
   ]
  },
  {
   "cell_type": "code",
   "execution_count": null,
   "id": "af89d2ad-1b00-4277-bd22-42dd49464264",
   "metadata": {},
   "outputs": [],
   "source": [
    "hcpcsingle.mnist=HCPC(pca.mnist,method = \"single\", nb.clust=-1)"
   ]
  },
  {
   "cell_type": "code",
   "execution_count": null,
   "id": "2ffdc887-ee41-4bf0-9d72-b23bf1d42b00",
   "metadata": {},
   "outputs": [],
   "source": [
    "hcpcsingle.mnist$call$t$nb.clust"
   ]
  },
  {
   "cell_type": "code",
   "execution_count": null,
   "id": "8e38bc44-281e-400c-a1b7-b5d1a6dc0def",
   "metadata": {},
   "outputs": [],
   "source": [
    "hcpcav.mnist=HCPC(pca.mnist,method = \"average\", nb.clust=-1)"
   ]
  },
  {
   "cell_type": "code",
   "execution_count": null,
   "id": "48644331-493d-424e-98fa-85fab5e0bbab",
   "metadata": {},
   "outputs": [],
   "source": [
    "hcpcav.mnist$call$t$nb.clust"
   ]
  },
  {
   "cell_type": "markdown",
   "id": "85e524c1-d196-4e46-82d1-30263036d79f",
   "metadata": {},
   "source": [
    "## 6. Confusion"
   ]
  },
  {
   "cell_type": "code",
   "execution_count": null,
   "id": "e6b9c985-64fe-478a-bc8f-f9399bb2519e",
   "metadata": {},
   "outputs": [],
   "source": [
    "table(ward.mnist$Best.partition, hcpcward.mnist$data.clust$clust)"
   ]
  },
  {
   "cell_type": "code",
   "execution_count": null,
   "id": "269b0e71-e17e-4ff7-a159-d182fbb15a9c",
   "metadata": {},
   "outputs": [],
   "source": [
    "table(ward.mnist$Best.partition, hcpcward.mnist$data.clust$clust)"
   ]
  },
  {
   "cell_type": "markdown",
   "id": "a5281e6e-d05d-4f57-a99d-db4f8b4a199d",
   "metadata": {},
   "source": [
    "## 7.Melange"
   ]
  },
  {
   "cell_type": "code",
   "execution_count": null,
   "id": "2fc9560d-9f37-442b-8a15-0c1959bb7544",
   "metadata": {},
   "outputs": [],
   "source": [
    "pca.mnist = PCA(t(mnist$X), graph = FALSE)"
   ]
  },
  {
   "cell_type": "code",
   "execution_count": null,
   "id": "ce1ba007-cbbe-44c5-b96d-6dbc355fb8e2",
   "metadata": {},
   "outputs": [],
   "source": [
    "strategie=mixmodStrategy(algo=\"EM\",initMethod=\"smallEM\",nbTry=10,epsilonInInit=0.00001)"
   ]
  },
  {
   "cell_type": "code",
   "execution_count": null,
   "id": "597aa539-dfdb-4853-911f-53db1ea5deb8",
   "metadata": {},
   "outputs": [],
   "source": [
    "mmgRmix.mnist=mixmodCluster(data=as.data.frame(pca.mnist$var$coord),nbCluster=4)"
   ]
  },
  {
   "cell_type": "code",
   "execution_count": null,
   "id": "1c0945fd-71a3-48ff-8fd8-c4a9499b275a",
   "metadata": {},
   "outputs": [],
   "source": [
    "mmgRmix.mnist"
   ]
  },
  {
   "cell_type": "code",
   "execution_count": null,
   "id": "6c964e11-9319-45d9-b12c-545871785cdd",
   "metadata": {},
   "outputs": [],
   "source": [
    "length(mmgRmix.mnist@bestResult@partition)"
   ]
  },
  {
   "cell_type": "code",
   "execution_count": null,
   "id": "f8e136fe-cade-4a07-97fb-61cec8ae5e39",
   "metadata": {},
   "outputs": [],
   "source": [
    "length(mnist$y)"
   ]
  },
  {
   "cell_type": "code",
   "execution_count": null,
   "id": "86cc5f01-9327-4d46-8635-503e9540998c",
   "metadata": {},
   "outputs": [],
   "source": [
    "table(mmgRmix.mnist@bestResult@partition,mnist$y)"
   ]
  },
  {
   "cell_type": "code",
   "execution_count": null,
   "id": "210fd569-8966-4e35-9782-b87168aadc82",
   "metadata": {},
   "outputs": [],
   "source": [
    "mmgMclust.mnist=Mclust(data= mnist$X)"
   ]
  },
  {
   "cell_type": "code",
   "execution_count": null,
   "id": "076eed6e-7c68-4904-bb2e-c64fc21bdfef",
   "metadata": {},
   "outputs": [],
   "source": [
    "table( mmgMclust.mnist$classification,mnist$y)"
   ]
  },
  {
   "cell_type": "code",
   "execution_count": null,
   "id": "121f2684-d381-4acc-89d8-504a3b9de28f",
   "metadata": {},
   "outputs": [],
   "source": [
    "mmgRmix.mnist=mixmodCluster(data=as.data.frame(pca.mnist$var$coord),nbCluster=10)"
   ]
  },
  {
   "cell_type": "code",
   "execution_count": null,
   "id": "e16de347-9a6c-4bdc-9b93-0cc4c46d5e70",
   "metadata": {},
   "outputs": [],
   "source": [
    "mmgRmix.mnist"
   ]
  },
  {
   "cell_type": "code",
   "execution_count": null,
   "id": "03871537-c5cf-4b7d-a244-6fd62585d18e",
   "metadata": {},
   "outputs": [],
   "source": [
    "table(mmgRmix.mnist@bestResult@partition,mnist$y)"
   ]
  },
  {
   "cell_type": "markdown",
   "id": "834993a8-8726-4fdb-ab4e-bad630961665",
   "metadata": {},
   "source": [
    "Les 2 partitions sont tres bonnes"
   ]
  },
  {
   "cell_type": "markdown",
   "id": "08df52cb-6db9-44a6-85ba-627ee1c9402f",
   "metadata": {},
   "source": [
    "## 9. MclustDR\n",
    "D'apres la doc MclustDR est une méthode de réduction de dimension pour visualiser la structure de regroupement ou de classification obtenue à partir d'un mélange fini de densités gaussiennes.\n"
   ]
  },
  {
   "cell_type": "code",
   "execution_count": null,
   "id": "b09c962d-1bb7-43b1-9c82-8d8bfdb80220",
   "metadata": {},
   "outputs": [],
   "source": [
    "plot(MclustDR(mmgMclust.mnist))"
   ]
  },
  {
   "cell_type": "markdown",
   "id": "90b55b03-d053-4c03-9650-2e67de7b2fc8",
   "metadata": {},
   "source": [
    "## 10. Etude comparative"
   ]
  },
  {
   "cell_type": "markdown",
   "id": "1bf4d237-72ef-4a63-b2b9-f1040faa7545",
   "metadata": {},
   "source": [
    "### Kmeans"
   ]
  },
  {
   "cell_type": "code",
   "execution_count": null,
   "id": "7ef83243-0c84-47c8-9fff-6a27081ae61b",
   "metadata": {},
   "outputs": [],
   "source": [
    "km.mnist=NbClust(mnist$X, method = \"kmeans\", distance = \"euclidean\", index = \"silhouette\",min.nc = 10,max.nc = 10)\n",
    "plot(pca.mnist$ind$coord,col=km.mnist$Best.partition)"
   ]
  },
  {
   "cell_type": "code",
   "execution_count": null,
   "id": "c4a89cab-0c9a-4b8e-80bc-f1323d93d29b",
   "metadata": {},
   "outputs": [],
   "source": [
    "unique(as.vector(mnist$y))"
   ]
  },
  {
   "cell_type": "code",
   "execution_count": null,
   "id": "7080a1e4-a46a-4cd7-bc3a-101720403d59",
   "metadata": {},
   "outputs": [],
   "source": [
    "table(km.mnist$Best.partition,as.vector(mnist$y))"
   ]
  },
  {
   "cell_type": "code",
   "execution_count": null,
   "id": "28958530-3a80-403a-89f2-0f068f6d7009",
   "metadata": {},
   "outputs": [],
   "source": [
    "(11+7+2+6)/223"
   ]
  },
  {
   "cell_type": "code",
   "execution_count": null,
   "id": "40954ee7-5036-4e04-b9f6-ebc332e1df30",
   "metadata": {},
   "outputs": [],
   "source": [
    "NMI(km.mnist$Best.partition,as.vector(mnist$y))"
   ]
  },
  {
   "cell_type": "code",
   "execution_count": null,
   "id": "3767e792-2330-41f2-8862-b5d29a1fd2b8",
   "metadata": {},
   "outputs": [],
   "source": [
    "ARI(km.mnist$Best.partition,as.vector(mnist$y))"
   ]
  },
  {
   "cell_type": "code",
   "execution_count": null,
   "id": "31cd7fa2-fc44-4ec1-b104-877a61e7a34e",
   "metadata": {},
   "outputs": [],
   "source": [
    "v"
   ]
  },
  {
   "cell_type": "markdown",
   "id": "9102ef8d-2622-4967-ad58-48056d7ef38e",
   "metadata": {},
   "source": [
    "### Average"
   ]
  },
  {
   "cell_type": "code",
   "execution_count": null,
   "id": "3eb15df1-dca7-429d-8c17-8add4ce19183",
   "metadata": {},
   "outputs": [],
   "source": [
    "average.mnist=NbClust(mnist$X, method = \"average\", distance = \"euclidean\", index = \"silhouette\",min.nc = 10,max.nc = 10)\n",
    "plot(pca.mnist$ind$coord,col=average.mnist$Best.partition)"
   ]
  },
  {
   "cell_type": "code",
   "execution_count": null,
   "id": "94ff2013-0e23-40d9-bce7-beb5ec069cc3",
   "metadata": {},
   "outputs": [],
   "source": [
    "table(average.mnist$Best.partition,as.vector(mnist$y))"
   ]
  },
  {
   "cell_type": "code",
   "execution_count": null,
   "id": "66e59fd9-b9c9-4b6c-a451-55a896f32ffb",
   "metadata": {},
   "outputs": [],
   "source": [
    "(11+3+1+5+9)/223"
   ]
  },
  {
   "cell_type": "code",
   "execution_count": null,
   "id": "f240d934-9219-4c9a-829c-1549543550ad",
   "metadata": {},
   "outputs": [],
   "source": [
    "NMI(average.mnist$Best.partition,as.vector(mnist$y))"
   ]
  },
  {
   "cell_type": "code",
   "execution_count": null,
   "id": "3b364709-9dbc-473f-8ce1-392ae7499229",
   "metadata": {},
   "outputs": [],
   "source": [
    "ARI(average.mnist$Best.partition,as.vector(mnist$y))"
   ]
  },
  {
   "cell_type": "markdown",
   "id": "490443de-4249-41a6-afd7-ef43837a69cf",
   "metadata": {},
   "source": [
    "### Ward"
   ]
  },
  {
   "cell_type": "code",
   "execution_count": null,
   "id": "516c0713-d0a1-4728-83aa-db2b17935002",
   "metadata": {},
   "outputs": [],
   "source": [
    "ward.mnist=NbClust(mnist$X, method = \"ward.D\", distance = \"euclidean\", index = \"silhouette\",min.nc = 10,max.nc = 10)\n",
    "plot(pca.mnist$ind$coord,col=ward.mnist$Best.partition)"
   ]
  },
  {
   "cell_type": "code",
   "execution_count": null,
   "id": "abc450dd-5409-486f-a41a-7eb48982a53d",
   "metadata": {},
   "outputs": [],
   "source": [
    "table(ward.mnist$Best.partition,as.vector(mnist$y))"
   ]
  },
  {
   "cell_type": "code",
   "execution_count": null,
   "id": "03cabe43-0d22-40ee-96cd-ed7edf0c4921",
   "metadata": {},
   "outputs": [],
   "source": [
    "(11+1+6+6)/223"
   ]
  },
  {
   "cell_type": "code",
   "execution_count": null,
   "id": "cb3b709e-e535-429b-a029-163a8d6e368e",
   "metadata": {},
   "outputs": [],
   "source": [
    "NMI(ward.mnist$Best.partition,as.vector(mnist$y))"
   ]
  },
  {
   "cell_type": "code",
   "execution_count": null,
   "id": "8705d0c2-b618-4140-b0ab-4aff4959aaef",
   "metadata": {},
   "outputs": [],
   "source": [
    "ARI(ward.mnist$Best.partition,as.vector(mnist$y))"
   ]
  },
  {
   "cell_type": "markdown",
   "id": "f960c894-7a73-4a9e-a52a-d80d953e7831",
   "metadata": {},
   "source": [
    "### Complete"
   ]
  },
  {
   "cell_type": "code",
   "execution_count": null,
   "id": "9818ca26-5c1d-4243-a1f8-abc0f749afee",
   "metadata": {},
   "outputs": [],
   "source": [
    "complete.mnist=NbClust(mnist$X, method = \"complete\", distance = \"euclidean\", index = \"silhouette\",min.nc = 10,max.nc = 10)\n",
    "plot(pca.mnist$ind$coord,col=complete.mnist$Best.partition)"
   ]
  },
  {
   "cell_type": "code",
   "execution_count": null,
   "id": "73cb4947-2859-46c3-a000-2e5a955997ed",
   "metadata": {},
   "outputs": [],
   "source": [
    "table(complete.mnist$Best.partition,as.vector(mnist$y))"
   ]
  },
  {
   "cell_type": "code",
   "execution_count": null,
   "id": "da4b273e-83db-4bd8-9970-b0333ea8d48b",
   "metadata": {},
   "outputs": [],
   "source": [
    "(11+9+1+6+5+6+9)/223"
   ]
  },
  {
   "cell_type": "code",
   "execution_count": null,
   "id": "45960e32-c4c3-4635-af4c-3d15e4aa6366",
   "metadata": {},
   "outputs": [],
   "source": [
    "NMI(complete.mnist$Best.partition,as.vector(mnist$y))"
   ]
  },
  {
   "cell_type": "code",
   "execution_count": null,
   "id": "ef21c630-a205-4b7e-9ee2-2d8626da8aa3",
   "metadata": {},
   "outputs": [],
   "source": [
    "ARI(complete.mnist$Best.partition,as.vector(mnist$y))"
   ]
  },
  {
   "cell_type": "markdown",
   "id": "1e49f635-5bff-40b9-8eab-85632f44d448",
   "metadata": {},
   "source": [
    "### Single"
   ]
  },
  {
   "cell_type": "code",
   "execution_count": null,
   "id": "03cb3349-1fbb-467b-bbc3-657b057bc086",
   "metadata": {},
   "outputs": [],
   "source": [
    "single.mnist=NbClust(mnist$X, method = \"single\", distance = \"euclidean\", index = \"silhouette\",min.nc = 10,max.nc = 10)\n",
    "plot(pca.mnist$ind$coord,col=single.mnist$Best.partition)"
   ]
  },
  {
   "cell_type": "code",
   "execution_count": null,
   "id": "7ab1515b-984b-406e-84ef-bd215e8497ab",
   "metadata": {},
   "outputs": [],
   "source": [
    "table(single.mnist$Best.partition,as.vector(mnist$y))"
   ]
  },
  {
   "cell_type": "code",
   "execution_count": null,
   "id": "68ba9c33-3c90-4578-ad94-0a032aa17eae",
   "metadata": {},
   "outputs": [],
   "source": [
    "NMI(single.mnist$Best.partition,as.vector(mnist$y))"
   ]
  },
  {
   "cell_type": "code",
   "execution_count": null,
   "id": "771f425a-bda2-4700-ba43-32fd728e10a4",
   "metadata": {},
   "outputs": [],
   "source": [
    "ARI(single.mnist$Best.partition,as.vector(mnist$y))"
   ]
  },
  {
   "cell_type": "markdown",
   "id": "9e6a492c-e653-4482-9248-dc1fa80a28fc",
   "metadata": {},
   "source": [
    "### MMG"
   ]
  },
  {
   "cell_type": "code",
   "execution_count": null,
   "id": "821485c2-b6a3-4322-afca-287e08769b0d",
   "metadata": {},
   "outputs": [],
   "source": [
    "plot(pca.mnist$ind$coord,col=mmgRmix.mnist@bestResult@partition)"
   ]
  },
  {
   "cell_type": "code",
   "execution_count": null,
   "id": "02d164cf-d38b-47b8-b28d-2dc94cd3a7c7",
   "metadata": {},
   "outputs": [],
   "source": [
    "table(mmgRmix.mnist@bestResult@partition,as.vector(mnist$y))"
   ]
  },
  {
   "cell_type": "code",
   "execution_count": null,
   "id": "7254408f-b981-4666-b493-6b535551fc1a",
   "metadata": {},
   "outputs": [],
   "source": [
    "NMI(mmgRmix.mnist@bestResult@partition,as.vector(mnist$y))"
   ]
  },
  {
   "cell_type": "code",
   "execution_count": null,
   "id": "2f5c8845-5028-436b-b142-1668605dee70",
   "metadata": {},
   "outputs": [],
   "source": [
    "ARI(mmgRmix.mnist@bestResult@partition,as.vector(mnist$y))"
   ]
  },
  {
   "cell_type": "code",
   "execution_count": null,
   "id": "d26ac753-8e98-4609-b9b4-dc3bfd33f42d",
   "metadata": {},
   "outputs": [],
   "source": [
    "table( mmgMclust.mnist$classification,mnist$y)"
   ]
  },
  {
   "cell_type": "code",
   "execution_count": null,
   "id": "17be0941-26d7-41b6-a33d-bf7844f6ab94",
   "metadata": {},
   "outputs": [],
   "source": [
    "NMI(mmgMclust.mnist$classification,as.vector(mnist$y))"
   ]
  },
  {
   "cell_type": "code",
   "execution_count": null,
   "id": "0a0ca6b8-c113-4bfd-849a-71c1d68c9cba",
   "metadata": {},
   "outputs": [],
   "source": [
    "ARI(mmgMclust.mnist$classification,as.vector(mnist$y))"
   ]
  },
  {
   "cell_type": "markdown",
   "id": "c9ec3679-d6ab-4bd0-86e5-b97bd9fd2d36",
   "metadata": {},
   "source": [
    "### Conclusion"
   ]
  },
  {
   "cell_type": "markdown",
   "id": "b22419c7-0159-4f92-b75f-bb78a8b9c3ad",
   "metadata": {},
   "source": [
    "On peut voir que MMG>Ward>Kmeans >> Complete > Average >> Single"
   ]
  },
  {
   "cell_type": "markdown",
   "id": "ceed438c-939e-4483-ac5c-2caa94516547",
   "metadata": {},
   "source": [
    "## t-SNE"
   ]
  },
  {
   "cell_type": "markdown",
   "id": "c6e3171c-ac72-4c71-9511-d7d5a0857ce8",
   "metadata": {},
   "source": [
    "### MMG"
   ]
  },
  {
   "cell_type": "code",
   "execution_count": null,
   "id": "fe42ce72-6a93-4b6f-b4dd-473732b7b85e",
   "metadata": {},
   "outputs": [],
   "source": [
    "plot(tsne.mnist$Y,col=mmgRmix.mnist@bestResult@partition)"
   ]
  },
  {
   "cell_type": "markdown",
   "id": "269d84e2-8824-4279-bd88-e8f73df7ba05",
   "metadata": {
    "tags": []
   },
   "source": [
    "### Kmeans"
   ]
  },
  {
   "cell_type": "code",
   "execution_count": null,
   "id": "ac155e20-f2b4-4cc5-a31f-3b1ab4d47753",
   "metadata": {},
   "outputs": [],
   "source": [
    "plot(tsne.mnist$Y,col=km.mnist$Best.partition)"
   ]
  },
  {
   "cell_type": "markdown",
   "id": "6c085e79-eb9f-4098-8227-b31007d5e72f",
   "metadata": {
    "tags": []
   },
   "source": [
    "### Average"
   ]
  },
  {
   "cell_type": "code",
   "execution_count": null,
   "id": "ca7a6668-7323-43b9-a89c-cd3c63acaf82",
   "metadata": {},
   "outputs": [],
   "source": [
    "plot(tsne.mnist$Y,col=average.mnist$Best.partition)"
   ]
  },
  {
   "cell_type": "markdown",
   "id": "73570894-087d-48b7-aaac-975672726ecb",
   "metadata": {
    "tags": []
   },
   "source": [
    "### Ward"
   ]
  },
  {
   "cell_type": "code",
   "execution_count": null,
   "id": "1136be2c-fdf4-4759-b77d-5607d2c47083",
   "metadata": {},
   "outputs": [],
   "source": [
    "plot(tsne.mnist$Y,col=ward.mnist$Best.partition)"
   ]
  },
  {
   "cell_type": "markdown",
   "id": "963b7da6-d824-4492-9407-63d88df66f9d",
   "metadata": {
    "tags": []
   },
   "source": [
    "### Single"
   ]
  },
  {
   "cell_type": "code",
   "execution_count": null,
   "id": "19936a69-1900-471b-9631-b92936de6563",
   "metadata": {},
   "outputs": [],
   "source": [
    "plot(tsne.mnist$Y,col=single.mnist$Best.partition)"
   ]
  },
  {
   "cell_type": "markdown",
   "id": "d70c3974-f337-45e4-80a3-0fff37b2c379",
   "metadata": {
    "tags": []
   },
   "source": [
    "### Complete"
   ]
  },
  {
   "cell_type": "code",
   "execution_count": null,
   "id": "5dbd3080-b17a-411a-93fc-18438be5d151",
   "metadata": {},
   "outputs": [],
   "source": [
    "plot(tsne.mnist$Y,col=complete.mnist$Best.partition)"
   ]
  },
  {
   "cell_type": "markdown",
   "id": "955614a4-45b2-4a5b-a9fb-32ab4d31d988",
   "metadata": {},
   "source": [
    "## UMAP"
   ]
  },
  {
   "cell_type": "code",
   "execution_count": null,
   "id": "65e67eb8-d205-4ed5-9d61-556de230a83f",
   "metadata": {},
   "outputs": [],
   "source": [
    "umap.mnist = umap(mnist$X)"
   ]
  },
  {
   "cell_type": "code",
   "execution_count": null,
   "id": "4501e52d-0b81-479a-b096-fd24e4c4f99c",
   "metadata": {},
   "outputs": [],
   "source": [
    "umap.mnist"
   ]
  },
  {
   "cell_type": "markdown",
   "id": "0371bef9-0d4e-4736-93d8-29be169a31a5",
   "metadata": {},
   "source": [
    "### MMG"
   ]
  },
  {
   "cell_type": "code",
   "execution_count": null,
   "id": "cfba4f4a-8081-4e97-9e2c-b2579b445d82",
   "metadata": {},
   "outputs": [],
   "source": [
    "plot(umap.mnist$layout,col=mmgRmix.mnist@bestResult@partition)"
   ]
  },
  {
   "cell_type": "markdown",
   "id": "0c975cba-9c95-461f-983c-0d0ba1dc126d",
   "metadata": {
    "tags": []
   },
   "source": [
    "### Kmeans"
   ]
  },
  {
   "cell_type": "code",
   "execution_count": null,
   "id": "90e48e8d-5248-4281-9a26-49db79250922",
   "metadata": {},
   "outputs": [],
   "source": [
    "plot(umap.mnist$layout,col=km.mnist$Best.partition)"
   ]
  },
  {
   "cell_type": "markdown",
   "id": "512e4e0f-4b17-4956-a46d-859f04f9abe0",
   "metadata": {
    "tags": []
   },
   "source": [
    "### Average"
   ]
  },
  {
   "cell_type": "code",
   "execution_count": null,
   "id": "4802ec71-306c-4c2e-b8e6-e1be699464a9",
   "metadata": {},
   "outputs": [],
   "source": [
    "plot(umap.mnist$layout,col=average.mnist$Best.partition)"
   ]
  },
  {
   "cell_type": "markdown",
   "id": "0b4e44ae-88f1-4411-a455-4746766fa4d6",
   "metadata": {
    "tags": []
   },
   "source": [
    "### Ward"
   ]
  },
  {
   "cell_type": "code",
   "execution_count": null,
   "id": "70cf32d8-7650-4319-ac59-0a0970a603c6",
   "metadata": {},
   "outputs": [],
   "source": [
    "plot(umap.mnist$layout,col=ward.mnist$Best.partition)"
   ]
  },
  {
   "cell_type": "markdown",
   "id": "f88a94f2-c5a0-442f-862e-49f7b5da282e",
   "metadata": {
    "tags": []
   },
   "source": [
    "### Single"
   ]
  },
  {
   "cell_type": "code",
   "execution_count": null,
   "id": "21478504-14ee-4fa5-8183-a00487677f19",
   "metadata": {},
   "outputs": [],
   "source": [
    "plot(umap.mnist$layout,col=single.mnist$Best.partition)"
   ]
  },
  {
   "cell_type": "markdown",
   "id": "b46198b9-488f-4c5e-adba-028a8eeab238",
   "metadata": {
    "tags": []
   },
   "source": [
    "### Complete"
   ]
  },
  {
   "cell_type": "code",
   "execution_count": null,
   "id": "9e90cdd9-088c-4d52-90ac-fc530dd5b9c4",
   "metadata": {},
   "outputs": [],
   "source": [
    "plot(umap.mnist$layout,col=complete.mnist$Best.partition)"
   ]
  },
  {
   "cell_type": "markdown",
   "id": "a5fc3891-bda6-444b-bcf1-5ca695c4bd9f",
   "metadata": {},
   "source": [
    "## Autoencoder"
   ]
  },
  {
   "cell_type": "code",
   "execution_count": null,
   "id": "b068fd5f-c0f9-4f71-9dc2-fa1bf2a09081",
   "metadata": {},
   "outputs": [],
   "source": [
    "mnist_reduced <- read.csv(file = 'data/mnist_reduced.csv', header=F)"
   ]
  },
  {
   "cell_type": "code",
   "execution_count": null,
   "id": "c51fc51d-43d2-4cb6-9fd2-7a43ef67f299",
   "metadata": {},
   "outputs": [],
   "source": [
    "mmgMclust.mnist_reduced=Mclust(data= mnist_reduced)"
   ]
  },
  {
   "cell_type": "code",
   "execution_count": null,
   "id": "cbc69393-535c-4f9f-8994-375f7d144112",
   "metadata": {},
   "outputs": [],
   "source": [
    "mmgMclust.mnist_reduced"
   ]
  },
  {
   "cell_type": "code",
   "execution_count": null,
   "id": "eaf2e5ab-308c-406d-9dfa-dba384042736",
   "metadata": {},
   "outputs": [],
   "source": [
    "plot(mnist_reduced,col=mmgMclust.mnist_reduced$classification)"
   ]
  },
  {
   "cell_type": "code",
   "execution_count": null,
   "id": "e2cb17ce-5afc-47eb-a6dc-010c59132603",
   "metadata": {},
   "outputs": [],
   "source": [
    "table(mmgMclust.mnist_reduced$classification,mnist$y)"
   ]
  },
  {
   "cell_type": "code",
   "execution_count": null,
   "id": "c1d37011-ac00-4b77-9173-cc19c312338e",
   "metadata": {},
   "outputs": [],
   "source": [
    "NMI(mmgMclust.mnist_reduced$classification,as.vector(mnist$y))"
   ]
  },
  {
   "cell_type": "code",
   "execution_count": null,
   "id": "38726880-f545-47ae-93a6-fc4640d241c5",
   "metadata": {},
   "outputs": [],
   "source": [
    "ARI(mmgMclust.mnist_reduced$classification,as.vector(mnist$y))"
   ]
  },
  {
   "cell_type": "markdown",
   "id": "4a02a516-81a9-4561-83b9-5596d6784b25",
   "metadata": {},
   "source": [
    "Ya peu de donnees l'autenencoder pour bien apprender une bonne representation"
   ]
  },
  {
   "cell_type": "code",
   "execution_count": null,
   "id": "507ba6f4-c3bc-479d-b9ed-dad8a07fe02f",
   "metadata": {
    "id": "8PY8IEXB46cY"
   },
   "outputs": [],
   "source": [
    "pca.mnist=PCA(mnist$X,ncp=2)"
   ]
  },
  {
   "cell_type": "code",
   "execution_count": null,
   "id": "0ba43540-caa1-45c4-8ceb-5b8942cf2194",
   "metadata": {
    "colab": {
     "base_uri": "https://localhost:8080/",
     "height": 437
    },
    "id": "84gUUdW646cY",
    "outputId": "7e7ed76e-8ff3-431b-ae91-a0354a234686"
   },
   "outputs": [],
   "source": [
    "plot(pca.mnist)"
   ]
  },
  {
   "cell_type": "code",
   "execution_count": null,
   "id": "7122fd45-9ff2-4e2c-922c-560b852cee12",
   "metadata": {
    "id": "lC_m-2e24_Ev"
   },
   "outputs": [],
   "source": []
  },
  {
   "cell_type": "code",
   "execution_count": null,
   "id": "1ce8c861-652e-426a-8e4b-08df3d2d5adb",
   "metadata": {
    "id": "039rAmha5AUL"
   },
   "outputs": [],
   "source": [
    "pca.mfeat=PCA(mfeat$X,ncp=2)"
   ]
  },
  {
   "cell_type": "code",
   "execution_count": null,
   "id": "e5113ded-2166-47d8-a7c8-ce6ea15e0477",
   "metadata": {
    "colab": {
     "base_uri": "https://localhost:8080/",
     "height": 437
    },
    "id": "8hn-KIBN5AUM",
    "outputId": "7b29ff54-fe78-4a80-d306-fcde6b1c3661"
   },
   "outputs": [],
   "source": [
    "plot(pca.mfeat)"
   ]
  },
  {
   "cell_type": "code",
   "execution_count": null,
   "id": "a90d3f48-1396-4c5d-83f9-fb113117559d",
   "metadata": {
    "id": "eGte1N5s5FHp"
   },
   "outputs": [],
   "source": [
    "pca.usps=PCA(usps$X,ncp=2)"
   ]
  },
  {
   "cell_type": "code",
   "execution_count": null,
   "id": "b7dbe0cd-4111-4482-9b97-c35bf36c21cc",
   "metadata": {
    "colab": {
     "base_uri": "https://localhost:8080/",
     "height": 437
    },
    "id": "Ae0Ui8xv5FHq",
    "outputId": "58944a38-9a6a-4f16-ddfd-52fcd4347dbf"
   },
   "outputs": [],
   "source": [
    "plot(pca.usps)"
   ]
  }
 ],
 "metadata": {
  "kernelspec": {
   "display_name": "default:Python",
   "language": "python",
   "name": "conda-env-default-py"
  },
  "language_info": {
   "codemirror_mode": {
    "name": "ipython",
    "version": 3
   },
   "file_extension": ".py",
   "mimetype": "text/x-python",
   "name": "python",
   "nbconvert_exporter": "python",
   "pygments_lexer": "ipython3",
   "version": "3.9.7"
  }
 },
 "nbformat": 4,
 "nbformat_minor": 5
}
